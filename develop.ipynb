{
 "cells": [
  {
   "cell_type": "code",
   "execution_count": 1,
   "metadata": {},
   "outputs": [],
   "source": [
    "from selenium import webdriver\n",
    "from selenium.webdriver.chrome.service import Service\n",
    "from selenium.webdriver.chrome.options import Options\n",
    "from selenium.webdriver.common.by import By\n",
    "from selenium.webdriver.support import expected_conditions as EC\n",
    "from webdriver_manager.chrome import ChromeDriverManager\n",
    "from selenium.webdriver.support.ui import WebDriverWait\n",
    "from scrapy.http import HtmlResponse"
   ]
  },
  {
   "cell_type": "code",
   "execution_count": 2,
   "metadata": {},
   "outputs": [],
   "source": [
    "chrome_options = Options()\n",
    "chrome_options.add_argument(\"--headless\")  # Ensure GUI is off\n",
    "chrome_options.add_argument(\"--no-sandbox\")\n",
    "chrome_options.add_argument(\"--disable-dev-shm-usage\")\n",
    "driver = webdriver.Chrome(service=Service(ChromeDriverManager().install()), options=chrome_options)"
   ]
  },
  {
   "cell_type": "code",
   "execution_count": 18,
   "metadata": {},
   "outputs": [],
   "source": [
    "urls = [\n",
    "            \"https://www.eventbrite.com/e/oregon-wedding-day-best-of-2024-awards-gala-tickets-881507160647?aff=ebdssbdestsearch\",\n",
    "            \"https://www.eventbrite.com/e/dinner-in-the-vineyard-tickets-860627809947?aff=ebdssbdestsearch\"\n",
    "        ]"
   ]
  },
  {
   "cell_type": "code",
   "execution_count": 19,
   "metadata": {},
   "outputs": [],
   "source": [
    "driver.get(urls[1])"
   ]
  },
  {
   "cell_type": "code",
   "execution_count": 24,
   "metadata": {},
   "outputs": [
    {
     "ename": "InvalidSelectorException",
     "evalue": "Message: invalid selector\nfrom javascript error: {\"status\":32,\"value\":\"An invalid or illegal selector was specified\"}\n  (Session info: chrome-headless-shell=126.0.6478.116); For documentation on this error, please visit: https://www.selenium.dev/documentation/webdriver/troubleshooting/errors#invalid-selector-exception\nStacktrace:\n0   chromedriver                        0x000000010133ea80 chromedriver + 4385408\n1   chromedriver                        0x000000010133738c chromedriver + 4354956\n2   chromedriver                        0x0000000100f54b0c chromedriver + 281356\n3   chromedriver                        0x0000000100f58fd8 chromedriver + 298968\n4   chromedriver                        0x0000000100f5ae58 chromedriver + 306776\n5   chromedriver                        0x0000000100f5aed0 chromedriver + 306896\n6   chromedriver                        0x0000000100f97114 chromedriver + 553236\n7   chromedriver                        0x0000000100fcfd24 chromedriver + 785700\n8   chromedriver                        0x0000000100f8beec chromedriver + 507628\n9   chromedriver                        0x0000000100f8c8c4 chromedriver + 510148\n10  chromedriver                        0x000000010130643c chromedriver + 4154428\n11  chromedriver                        0x000000010130aea0 chromedriver + 4173472\n12  chromedriver                        0x00000001012ebff8 chromedriver + 4046840\n13  chromedriver                        0x000000010130b78c chromedriver + 4175756\n14  chromedriver                        0x00000001012defb8 chromedriver + 3993528\n15  chromedriver                        0x000000010132921c chromedriver + 4297244\n16  chromedriver                        0x0000000101329398 chromedriver + 4297624\n17  chromedriver                        0x0000000101336f84 chromedriver + 4353924\n18  libsystem_pthread.dylib             0x000000019bfbef94 _pthread_start + 136\n19  libsystem_pthread.dylib             0x000000019bfb9d34 thread_start + 8\n",
     "output_type": "error",
     "traceback": [
      "\u001b[0;31m---------------------------------------------------------------------------\u001b[0m",
      "\u001b[0;31mInvalidSelectorException\u001b[0m                  Traceback (most recent call last)",
      "Cell \u001b[0;32mIn[24], line 1\u001b[0m\n\u001b[0;32m----> 1\u001b[0m \u001b[43mdriver\u001b[49m\u001b[38;5;241;43m.\u001b[39;49m\u001b[43mfind_element\u001b[49m\u001b[43m(\u001b[49m\u001b[43mBy\u001b[49m\u001b[38;5;241;43m.\u001b[39;49m\u001b[43mCSS_SELECTOR\u001b[49m\u001b[43m,\u001b[49m\u001b[43m \u001b[49m\u001b[38;5;124;43m'\u001b[39;49m\u001b[38;5;124;43mdev.conversion-bar-container::text\u001b[39;49m\u001b[38;5;124;43m'\u001b[39;49m\u001b[43m)\u001b[49m\n",
      "File \u001b[0;32m~/Developer/event_scraper/venv/lib/python3.9/site-packages/selenium/webdriver/remote/webdriver.py:748\u001b[0m, in \u001b[0;36mWebDriver.find_element\u001b[0;34m(self, by, value)\u001b[0m\n\u001b[1;32m    745\u001b[0m     by \u001b[38;5;241m=\u001b[39m By\u001b[38;5;241m.\u001b[39mCSS_SELECTOR\n\u001b[1;32m    746\u001b[0m     value \u001b[38;5;241m=\u001b[39m \u001b[38;5;124mf\u001b[39m\u001b[38;5;124m'\u001b[39m\u001b[38;5;124m[name=\u001b[39m\u001b[38;5;124m\"\u001b[39m\u001b[38;5;132;01m{\u001b[39;00mvalue\u001b[38;5;132;01m}\u001b[39;00m\u001b[38;5;124m\"\u001b[39m\u001b[38;5;124m]\u001b[39m\u001b[38;5;124m'\u001b[39m\n\u001b[0;32m--> 748\u001b[0m \u001b[38;5;28;01mreturn\u001b[39;00m \u001b[38;5;28;43mself\u001b[39;49m\u001b[38;5;241;43m.\u001b[39;49m\u001b[43mexecute\u001b[49m\u001b[43m(\u001b[49m\u001b[43mCommand\u001b[49m\u001b[38;5;241;43m.\u001b[39;49m\u001b[43mFIND_ELEMENT\u001b[49m\u001b[43m,\u001b[49m\u001b[43m \u001b[49m\u001b[43m{\u001b[49m\u001b[38;5;124;43m\"\u001b[39;49m\u001b[38;5;124;43musing\u001b[39;49m\u001b[38;5;124;43m\"\u001b[39;49m\u001b[43m:\u001b[49m\u001b[43m \u001b[49m\u001b[43mby\u001b[49m\u001b[43m,\u001b[49m\u001b[43m \u001b[49m\u001b[38;5;124;43m\"\u001b[39;49m\u001b[38;5;124;43mvalue\u001b[39;49m\u001b[38;5;124;43m\"\u001b[39;49m\u001b[43m:\u001b[49m\u001b[43m \u001b[49m\u001b[43mvalue\u001b[49m\u001b[43m}\u001b[49m\u001b[43m)\u001b[49m[\u001b[38;5;124m\"\u001b[39m\u001b[38;5;124mvalue\u001b[39m\u001b[38;5;124m\"\u001b[39m]\n",
      "File \u001b[0;32m~/Developer/event_scraper/venv/lib/python3.9/site-packages/selenium/webdriver/remote/webdriver.py:354\u001b[0m, in \u001b[0;36mWebDriver.execute\u001b[0;34m(self, driver_command, params)\u001b[0m\n\u001b[1;32m    352\u001b[0m response \u001b[38;5;241m=\u001b[39m \u001b[38;5;28mself\u001b[39m\u001b[38;5;241m.\u001b[39mcommand_executor\u001b[38;5;241m.\u001b[39mexecute(driver_command, params)\n\u001b[1;32m    353\u001b[0m \u001b[38;5;28;01mif\u001b[39;00m response:\n\u001b[0;32m--> 354\u001b[0m     \u001b[38;5;28;43mself\u001b[39;49m\u001b[38;5;241;43m.\u001b[39;49m\u001b[43merror_handler\u001b[49m\u001b[38;5;241;43m.\u001b[39;49m\u001b[43mcheck_response\u001b[49m\u001b[43m(\u001b[49m\u001b[43mresponse\u001b[49m\u001b[43m)\u001b[49m\n\u001b[1;32m    355\u001b[0m     response[\u001b[38;5;124m\"\u001b[39m\u001b[38;5;124mvalue\u001b[39m\u001b[38;5;124m\"\u001b[39m] \u001b[38;5;241m=\u001b[39m \u001b[38;5;28mself\u001b[39m\u001b[38;5;241m.\u001b[39m_unwrap_value(response\u001b[38;5;241m.\u001b[39mget(\u001b[38;5;124m\"\u001b[39m\u001b[38;5;124mvalue\u001b[39m\u001b[38;5;124m\"\u001b[39m, \u001b[38;5;28;01mNone\u001b[39;00m))\n\u001b[1;32m    356\u001b[0m     \u001b[38;5;28;01mreturn\u001b[39;00m response\n",
      "File \u001b[0;32m~/Developer/event_scraper/venv/lib/python3.9/site-packages/selenium/webdriver/remote/errorhandler.py:229\u001b[0m, in \u001b[0;36mErrorHandler.check_response\u001b[0;34m(self, response)\u001b[0m\n\u001b[1;32m    227\u001b[0m         alert_text \u001b[38;5;241m=\u001b[39m value[\u001b[38;5;124m\"\u001b[39m\u001b[38;5;124malert\u001b[39m\u001b[38;5;124m\"\u001b[39m]\u001b[38;5;241m.\u001b[39mget(\u001b[38;5;124m\"\u001b[39m\u001b[38;5;124mtext\u001b[39m\u001b[38;5;124m\"\u001b[39m)\n\u001b[1;32m    228\u001b[0m     \u001b[38;5;28;01mraise\u001b[39;00m exception_class(message, screen, stacktrace, alert_text)  \u001b[38;5;66;03m# type: ignore[call-arg]  # mypy is not smart enough here\u001b[39;00m\n\u001b[0;32m--> 229\u001b[0m \u001b[38;5;28;01mraise\u001b[39;00m exception_class(message, screen, stacktrace)\n",
      "\u001b[0;31mInvalidSelectorException\u001b[0m: Message: invalid selector\nfrom javascript error: {\"status\":32,\"value\":\"An invalid or illegal selector was specified\"}\n  (Session info: chrome-headless-shell=126.0.6478.116); For documentation on this error, please visit: https://www.selenium.dev/documentation/webdriver/troubleshooting/errors#invalid-selector-exception\nStacktrace:\n0   chromedriver                        0x000000010133ea80 chromedriver + 4385408\n1   chromedriver                        0x000000010133738c chromedriver + 4354956\n2   chromedriver                        0x0000000100f54b0c chromedriver + 281356\n3   chromedriver                        0x0000000100f58fd8 chromedriver + 298968\n4   chromedriver                        0x0000000100f5ae58 chromedriver + 306776\n5   chromedriver                        0x0000000100f5aed0 chromedriver + 306896\n6   chromedriver                        0x0000000100f97114 chromedriver + 553236\n7   chromedriver                        0x0000000100fcfd24 chromedriver + 785700\n8   chromedriver                        0x0000000100f8beec chromedriver + 507628\n9   chromedriver                        0x0000000100f8c8c4 chromedriver + 510148\n10  chromedriver                        0x000000010130643c chromedriver + 4154428\n11  chromedriver                        0x000000010130aea0 chromedriver + 4173472\n12  chromedriver                        0x00000001012ebff8 chromedriver + 4046840\n13  chromedriver                        0x000000010130b78c chromedriver + 4175756\n14  chromedriver                        0x00000001012defb8 chromedriver + 3993528\n15  chromedriver                        0x000000010132921c chromedriver + 4297244\n16  chromedriver                        0x0000000101329398 chromedriver + 4297624\n17  chromedriver                        0x0000000101336f84 chromedriver + 4353924\n18  libsystem_pthread.dylib             0x000000019bfbef94 _pthread_start + 136\n19  libsystem_pthread.dylib             0x000000019bfb9d34 thread_start + 8\n"
     ]
    }
   ],
   "source": [
    "driver.find_element(By.CSS_SELECTOR, 'dev.conversion-bar-container::text')"
   ]
  },
  {
   "cell_type": "code",
   "execution_count": 29,
   "metadata": {},
   "outputs": [
    {
     "ename": "TimeoutException",
     "evalue": "Message: \nStacktrace:\n0   chromedriver                        0x0000000100532a80 chromedriver + 4385408\n1   chromedriver                        0x000000010052b38c chromedriver + 4354956\n2   chromedriver                        0x0000000100148b0c chromedriver + 281356\n3   chromedriver                        0x000000010018b2f8 chromedriver + 553720\n4   chromedriver                        0x00000001001c3d24 chromedriver + 785700\n5   chromedriver                        0x000000010017feec chromedriver + 507628\n6   chromedriver                        0x00000001001808c4 chromedriver + 510148\n7   chromedriver                        0x00000001004fa43c chromedriver + 4154428\n8   chromedriver                        0x00000001004feea0 chromedriver + 4173472\n9   chromedriver                        0x00000001004dfff8 chromedriver + 4046840\n10  chromedriver                        0x00000001004ff78c chromedriver + 4175756\n11  chromedriver                        0x00000001004d2fb8 chromedriver + 3993528\n12  chromedriver                        0x000000010051d21c chromedriver + 4297244\n13  chromedriver                        0x000000010051d398 chromedriver + 4297624\n14  chromedriver                        0x000000010052af84 chromedriver + 4353924\n15  libsystem_pthread.dylib             0x000000019bfbef94 _pthread_start + 136\n16  libsystem_pthread.dylib             0x000000019bfb9d34 thread_start + 8\n",
     "output_type": "error",
     "traceback": [
      "\u001b[0;31m---------------------------------------------------------------------------\u001b[0m",
      "\u001b[0;31mTimeoutException\u001b[0m                          Traceback (most recent call last)",
      "Cell \u001b[0;32mIn[29], line 20\u001b[0m\n\u001b[1;32m     17\u001b[0m driver\u001b[38;5;241m.\u001b[39mget(\u001b[38;5;124m'\u001b[39m\u001b[38;5;124mhttps://www.eventbrite.com/e/roy-g-bivs-comedy-show-tickets-381904676167?aff=ebdssbdestsearch\u001b[39m\u001b[38;5;124m'\u001b[39m)  \u001b[38;5;66;03m# Replace with the actual URL\u001b[39;00m\n\u001b[1;32m     19\u001b[0m wait \u001b[38;5;241m=\u001b[39m WebDriverWait(driver, \u001b[38;5;241m10\u001b[39m)\n\u001b[0;32m---> 20\u001b[0m \u001b[43mwait\u001b[49m\u001b[38;5;241;43m.\u001b[39;49m\u001b[43muntil\u001b[49m\u001b[43m(\u001b[49m\n\u001b[1;32m     21\u001b[0m \u001b[43m            \u001b[49m\u001b[43mEC\u001b[49m\u001b[38;5;241;43m.\u001b[39;49m\u001b[43mpresence_of_element_located\u001b[49m\u001b[43m(\u001b[49m\u001b[43m(\u001b[49m\u001b[43mBy\u001b[49m\u001b[38;5;241;43m.\u001b[39;49m\u001b[43mXPATH\u001b[49m\u001b[43m,\u001b[49m\u001b[43m \u001b[49m\u001b[38;5;124;43m\"\u001b[39;49m\u001b[38;5;124;43m//span[contains(@class, \u001b[39;49m\u001b[38;5;124;43m'\u001b[39;49m\u001b[38;5;124;43mconversion-bar-container\u001b[39;49m\u001b[38;5;124;43m'\u001b[39;49m\u001b[38;5;124;43m)]\u001b[39;49m\u001b[38;5;124;43m\"\u001b[39;49m\u001b[43m)\u001b[49m\u001b[43m)\u001b[49m\n\u001b[1;32m     22\u001b[0m \u001b[43m        \u001b[49m\u001b[43m)\u001b[49m\n\u001b[1;32m     24\u001b[0m \u001b[38;5;66;03m# Locate the div element by XPath\u001b[39;00m\n\u001b[1;32m     25\u001b[0m xpath \u001b[38;5;241m=\u001b[39m \u001b[38;5;124m\"\u001b[39m\u001b[38;5;124m//div[@class=\u001b[39m\u001b[38;5;124m'\u001b[39m\u001b[38;5;124mconversion-bar-container\u001b[39m\u001b[38;5;124m'\u001b[39m\u001b[38;5;124m]\u001b[39m\u001b[38;5;124m\"\u001b[39m\n",
      "File \u001b[0;32m~/Developer/event_scraper/venv/lib/python3.9/site-packages/selenium/webdriver/support/wait.py:105\u001b[0m, in \u001b[0;36mWebDriverWait.until\u001b[0;34m(self, method, message)\u001b[0m\n\u001b[1;32m    103\u001b[0m     \u001b[38;5;28;01mif\u001b[39;00m time\u001b[38;5;241m.\u001b[39mmonotonic() \u001b[38;5;241m>\u001b[39m end_time:\n\u001b[1;32m    104\u001b[0m         \u001b[38;5;28;01mbreak\u001b[39;00m\n\u001b[0;32m--> 105\u001b[0m \u001b[38;5;28;01mraise\u001b[39;00m TimeoutException(message, screen, stacktrace)\n",
      "\u001b[0;31mTimeoutException\u001b[0m: Message: \nStacktrace:\n0   chromedriver                        0x0000000100532a80 chromedriver + 4385408\n1   chromedriver                        0x000000010052b38c chromedriver + 4354956\n2   chromedriver                        0x0000000100148b0c chromedriver + 281356\n3   chromedriver                        0x000000010018b2f8 chromedriver + 553720\n4   chromedriver                        0x00000001001c3d24 chromedriver + 785700\n5   chromedriver                        0x000000010017feec chromedriver + 507628\n6   chromedriver                        0x00000001001808c4 chromedriver + 510148\n7   chromedriver                        0x00000001004fa43c chromedriver + 4154428\n8   chromedriver                        0x00000001004feea0 chromedriver + 4173472\n9   chromedriver                        0x00000001004dfff8 chromedriver + 4046840\n10  chromedriver                        0x00000001004ff78c chromedriver + 4175756\n11  chromedriver                        0x00000001004d2fb8 chromedriver + 3993528\n12  chromedriver                        0x000000010051d21c chromedriver + 4297244\n13  chromedriver                        0x000000010051d398 chromedriver + 4297624\n14  chromedriver                        0x000000010052af84 chromedriver + 4353924\n15  libsystem_pthread.dylib             0x000000019bfbef94 _pthread_start + 136\n16  libsystem_pthread.dylib             0x000000019bfb9d34 thread_start + 8\n"
     ]
    }
   ],
   "source": [
    "from selenium import webdriver\n",
    "from selenium.webdriver.chrome.service import Service\n",
    "from selenium.webdriver.chrome.options import Options\n",
    "from selenium.webdriver.common.by import By\n",
    "from webdriver_manager.chrome import ChromeDriverManager\n",
    "\n",
    "# Configure Chrome options\n",
    "chrome_options = Options()\n",
    "chrome_options.add_argument(\"--headless\")  # Run headless Chrome\n",
    "chrome_options.add_argument(\"--no-sandbox\")\n",
    "chrome_options.add_argument(\"--disable-dev-shm-usage\")\n",
    "\n",
    "# Initialize the WebDriver\n",
    "driver = webdriver.Chrome(service=Service(ChromeDriverManager().install()), options=chrome_options)\n",
    "\n",
    "# Open a website\n",
    "driver.get('https://www.eventbrite.com/e/roy-g-bivs-comedy-show-tickets-381904676167?aff=ebdssbdestsearch')  # Replace with the actual URL\n",
    "\n",
    "wait = WebDriverWait(driver, 10)\n",
    "wait.until(\n",
    "            EC.presence_of_element_located((By.XPATH, \"//span[contains(@class, 'conversion-bar-container')]\"))\n",
    "        )\n",
    "\n",
    "# Locate the div element by XPath\n",
    "xpath = \"//div[@class='conversion-bar-container']\"\n",
    "try:\n",
    "    element = driver.find_element(By.XPATH, xpath)\n",
    "    # Extract all text within the div\n",
    "    all_text = element.text\n",
    "    print(f\"All text within the div: {all_text}\")\n",
    "except Exception as e:\n",
    "    print(f\"Error finding element: {e}\")\n",
    "\n",
    "# Close the WebDriver\n",
    "driver.quit()"
   ]
  },
  {
   "cell_type": "code",
   "execution_count": null,
   "metadata": {},
   "outputs": [],
   "source": []
  }
 ],
 "metadata": {
  "kernelspec": {
   "display_name": "venv",
   "language": "python",
   "name": "python3"
  },
  "language_info": {
   "codemirror_mode": {
    "name": "ipython",
    "version": 3
   },
   "file_extension": ".py",
   "mimetype": "text/x-python",
   "name": "python",
   "nbconvert_exporter": "python",
   "pygments_lexer": "ipython3",
   "version": "3.9.6"
  }
 },
 "nbformat": 4,
 "nbformat_minor": 2
}
