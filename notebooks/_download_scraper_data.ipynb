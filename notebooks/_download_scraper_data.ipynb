{
 "cells": [
  {
   "cell_type": "code",
   "execution_count": 7,
   "metadata": {},
   "outputs": [],
   "source": [
    "import os\n",
    "\n",
    "if \"notebooks\" in os.getcwd():\n",
    "    os.chdir(\"..\")"
   ]
  },
  {
   "cell_type": "code",
   "execution_count": 8,
   "metadata": {},
   "outputs": [],
   "source": [
    "import os\n",
    "import hashlib\n",
    "from tqdm.notebook import tqdm\n",
    "from datetime import datetime\n",
    "import pandas as pd\n",
    "import logging\n",
    "from azure.cosmos import CosmosClient\n",
    "from azure.cosmos.exceptions import CosmosHttpResponseError\n",
    "\n",
    "\n",
    "class AzureCosmos:\n",
    "    def __init__(self) -> None:\n",
    "        logging.getLogger('azure').setLevel(logging.CRITICAL)\n",
    "\n",
    "        self.COSMOS_HOST = \"https://cosmos-scraper.documents.azure.com:443/\"\n",
    "        self.COSMOS_MASTER_KEY = \"bBgVEeSnEQaSss88e8zZU5pjpiVzPjba5qpe6alFqU548KcW2eMkCeUf7J99RWVUPw6ASV32W8pGACDb5ZhxrA==\"\n",
    "        self.DATABASE_ID = \"Scraper\"\n",
    "        self.client = CosmosClient(self.COSMOS_HOST, {'masterKey': self.COSMOS_MASTER_KEY})\n",
    "        print(\"client created\")\n",
    "\n",
    "    def initialize_cosmosdb(self, container_name):\n",
    "        try:\n",
    "            database = self.client.get_database_client(self.DATABASE_ID)\n",
    "            container = database.get_container_client(container_name)\n",
    "            print(\"[INFO] Cosmos client created\")\n",
    "            return container\n",
    "        except Exception as e:\n",
    "            print(\"Error initializing Cosmos DB:\", e)\n",
    "            return None\n",
    "\n",
    "\n",
    "    def execute_cosmos_query(self, container_name, query):\n",
    "        \"\"\"\n",
    "        Executes a Cosmos SQL query on the specified container.\n",
    "        \"\"\"\n",
    "        try:\n",
    "            # Initialize the container using the provided container_name\n",
    "            container = self.initialize_cosmosdb(container_name)\n",
    "            \n",
    "            # Run the query and fetch results\n",
    "            results = list(container.query_items(\n",
    "                query=query,\n",
    "                enable_cross_partition_query=True\n",
    "            ))\n",
    "            \n",
    "            print(f\"[INFO] Query executed successfully: {query}\")\n",
    "            return results\n",
    "        \n",
    "        except CosmosHttpResponseError as e:\n",
    "            print(f\"[ERROR] Failed to execute query: {e}\")\n",
    "            return None\n",
    "        \n",
    "    def mark_them_unprocessed(self):\n",
    "        sheet_name = \"Internal Dating Batch 2 - Social Mixer\"\n",
    "        query = f\"SELECT * FROM c WHERE c.processed=true and c.sheet_name='{sheet_name}'\"\n",
    "        query = f\"SELECT * FROM c WHERE c.processed=true and CONTAINS(c.event_name, 'ERROR: 400')\"\n",
    "        container_name = 'eventbrite_events'\n",
    "\n",
    "        container = self.initialize_cosmosdb(container_name)\n",
    "        results = list(container.query_items(\n",
    "                query=query,\n",
    "                enable_cross_partition_query=True\n",
    "            ))\n",
    "\n",
    "        for item in tqdm(results):\n",
    "            # print(item)\n",
    "            # data = {\n",
    "            #     \"id\": item[\"id\"],\n",
    "            #     \"url\": item[\"link_name\"],\n",
    "            #     \"processed\": False,\n",
    "            #     \"sheet_name\": item[\"sheet_name\"]\n",
    "            #     }\n",
    "            item[\"processed\"] = False\n",
    "            container.upsert_item(item)\n",
    "\n",
    "        \n",
    "    def download_data_to_excel(self):\n",
    "        \"\"\"\n",
    "        Downloads all data from the 'eventBrite_events' container and saves it to an Excel file.\n",
    "        \"\"\"\n",
    "        sheet_name = \"Shotgun Analysis - Non Duplicates\"\n",
    "        query = f\"SELECT * FROM c where c.processed=true and c.sheet_name = '{sheet_name}'\"\n",
    "        container_name = 'shotgun_events'\n",
    "        \n",
    "        # Execute query to fetch all data\n",
    "        data = self.execute_cosmos_query(container_name, query)\n",
    "        if data:\n",
    "            # Convert the data into a pandas DataFrame\n",
    "            df = pd.DataFrame(data)\n",
    "            \n",
    "            # Create a timestamp for the file name\n",
    "            timestamp = datetime.now().strftime('%Y%m%d_%H%M%S')\n",
    "            file_name = f\"data/outputs/{container_name}_{sheet_name}_{timestamp}.xlsx\"\n",
    "            \n",
    "            # Save the DataFrame to an Excel file\n",
    "            df.to_excel(file_name, index=False)\n",
    "            \n",
    "            print(f\"[INFO] Data saved successfully to {file_name}\")\n",
    "        else:\n",
    "            print(\"[ERROR] No data found or query execution failed.\")"
   ]
  },
  {
   "cell_type": "code",
   "execution_count": 9,
   "metadata": {},
   "outputs": [
    {
     "name": "stdout",
     "output_type": "stream",
     "text": [
      "client created\n",
      "[INFO] Cosmos client created\n"
     ]
    },
    {
     "data": {
      "application/vnd.jupyter.widget-view+json": {
       "model_id": "5e204844d37840ebaf44e972ed53814c",
       "version_major": 2,
       "version_minor": 0
      },
      "text/plain": [
       "  0%|          | 0/338 [00:00<?, ?it/s]"
      ]
     },
     "metadata": {},
     "output_type": "display_data"
    }
   ],
   "source": [
    "azure_cosmos = AzureCosmos()\n",
    "# azure_cosmos.download_data_to_excel()\n",
    "azure_cosmos.mark_them_unprocessed()"
   ]
  },
  {
   "cell_type": "code",
   "execution_count": null,
   "metadata": {},
   "outputs": [],
   "source": []
  }
 ],
 "metadata": {
  "kernelspec": {
   "display_name": "venv",
   "language": "python",
   "name": "python3"
  },
  "language_info": {
   "codemirror_mode": {
    "name": "ipython",
    "version": 3
   },
   "file_extension": ".py",
   "mimetype": "text/x-python",
   "name": "python",
   "nbconvert_exporter": "python",
   "pygments_lexer": "ipython3",
   "version": "3.9.20"
  }
 },
 "nbformat": 4,
 "nbformat_minor": 2
}
