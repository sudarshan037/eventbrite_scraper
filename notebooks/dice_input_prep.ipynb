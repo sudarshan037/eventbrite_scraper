{
 "cells": [
  {
   "cell_type": "code",
   "execution_count": 1,
   "metadata": {},
   "outputs": [],
   "source": [
    "import os\n",
    "\n",
    "if \"notebooks\" in os.getcwd():\n",
    "    os.chdir(\"..\")"
   ]
  },
  {
   "cell_type": "code",
   "execution_count": 2,
   "metadata": {},
   "outputs": [],
   "source": [
    "import glob\n",
    "import pandas as pd"
   ]
  },
  {
   "cell_type": "code",
   "execution_count": 3,
   "metadata": {},
   "outputs": [
    {
     "data": {
      "text/plain": [
       "['data/inputs/100k_response - 100k_response.csv',\n",
       " 'data/inputs/200k_response - 200k_response.csv',\n",
       " 'data/inputs/300k_response - 300k_response.csv',\n",
       " 'data/inputs/400k_response - 400k_response.csv',\n",
       " 'data/inputs/500k_response - 500k_response.csv']"
      ]
     },
     "execution_count": 3,
     "metadata": {},
     "output_type": "execute_result"
    }
   ],
   "source": [
    "sorted(glob.glob(\"data/inputs/*_response.csv\"))"
   ]
  },
  {
   "cell_type": "code",
   "execution_count": null,
   "metadata": {},
   "outputs": [
    {
     "name": "stdout",
     "output_type": "stream",
     "text": [
      "(100000, 8) (100000, 8)\n",
      "(100000, 8) (200000, 8)\n",
      "(100000, 8) (300000, 8)\n",
      "(100000, 8) (400000, 8)\n",
      "(100000, 8) (500000, 8)\n"
     ]
    }
   ],
   "source": [
    "df_main = pd.DataFrame()\n",
    "\n",
    "for input_path in sorted(glob.glob(\"data/inputs/*_response.csv\")):\n",
    "    df = pd.read_csv(input_path)\n",
    "    df_main = pd.concat([df_main, df], axis=0, ignore_index=True)\n",
    "    print(df.shape, df_main.shape)"
   ]
  },
  {
   "cell_type": "code",
   "execution_count": 55,
   "metadata": {},
   "outputs": [
    {
     "data": {
      "text/html": [
       "<div>\n",
       "<style scoped>\n",
       "    .dataframe tbody tr th:only-of-type {\n",
       "        vertical-align: middle;\n",
       "    }\n",
       "\n",
       "    .dataframe tbody tr th {\n",
       "        vertical-align: top;\n",
       "    }\n",
       "\n",
       "    .dataframe thead th {\n",
       "        text-align: right;\n",
       "    }\n",
       "</style>\n",
       "<table border=\"1\" class=\"dataframe\">\n",
       "  <thead>\n",
       "    <tr style=\"text-align: right;\">\n",
       "      <th></th>\n",
       "      <th>source_url</th>\n",
       "      <th>source_title</th>\n",
       "      <th>response_code</th>\n",
       "      <th>backlinks_num</th>\n",
       "      <th>domains_num</th>\n",
       "      <th>last_seen</th>\n",
       "      <th>external_num</th>\n",
       "      <th>internal_num</th>\n",
       "    </tr>\n",
       "  </thead>\n",
       "  <tbody>\n",
       "    <tr>\n",
       "      <th>0</th>\n",
       "      <td>https://dice.fm/</td>\n",
       "      <td>Discover live events and gigs | Buy tickets on...</td>\n",
       "      <td>200</td>\n",
       "      <td>20866</td>\n",
       "      <td>2857</td>\n",
       "      <td>1734254195</td>\n",
       "      <td>6</td>\n",
       "      <td>27</td>\n",
       "    </tr>\n",
       "    <tr>\n",
       "      <th>1</th>\n",
       "      <td>http://dice.fm/</td>\n",
       "      <td>NaN</td>\n",
       "      <td>301</td>\n",
       "      <td>15771</td>\n",
       "      <td>820</td>\n",
       "      <td>1731420176</td>\n",
       "      <td>0</td>\n",
       "      <td>0</td>\n",
       "    </tr>\n",
       "    <tr>\n",
       "      <th>2</th>\n",
       "      <td>https://dice.fm/?lng=en</td>\n",
       "      <td>Discover live events and gigs | Buy tickets on...</td>\n",
       "      <td>200</td>\n",
       "      <td>1598</td>\n",
       "      <td>242</td>\n",
       "      <td>1734189665</td>\n",
       "      <td>6</td>\n",
       "      <td>27</td>\n",
       "    </tr>\n",
       "    <tr>\n",
       "      <th>3</th>\n",
       "      <td>https://dice.fm/?lng=it</td>\n",
       "      <td>Discover live events and gigs | Buy tickets on...</td>\n",
       "      <td>200</td>\n",
       "      <td>400</td>\n",
       "      <td>159</td>\n",
       "      <td>1733961593</td>\n",
       "      <td>6</td>\n",
       "      <td>29</td>\n",
       "    </tr>\n",
       "    <tr>\n",
       "      <th>4</th>\n",
       "      <td>https://dice.fm/event/moxbl-boiler-room-miami-...</td>\n",
       "      <td>BOILER ROOM MIAMI: III POINTS Tickets | From F...</td>\n",
       "      <td>200</td>\n",
       "      <td>418</td>\n",
       "      <td>94</td>\n",
       "      <td>1732237042</td>\n",
       "      <td>0</td>\n",
       "      <td>0</td>\n",
       "    </tr>\n",
       "  </tbody>\n",
       "</table>\n",
       "</div>"
      ],
      "text/plain": [
       "                                          source_url  \\\n",
       "0                                   https://dice.fm/   \n",
       "1                                    http://dice.fm/   \n",
       "2                            https://dice.fm/?lng=en   \n",
       "3                            https://dice.fm/?lng=it   \n",
       "4  https://dice.fm/event/moxbl-boiler-room-miami-...   \n",
       "\n",
       "                                        source_title  response_code  \\\n",
       "0  Discover live events and gigs | Buy tickets on...            200   \n",
       "1                                                NaN            301   \n",
       "2  Discover live events and gigs | Buy tickets on...            200   \n",
       "3  Discover live events and gigs | Buy tickets on...            200   \n",
       "4  BOILER ROOM MIAMI: III POINTS Tickets | From F...            200   \n",
       "\n",
       "   backlinks_num  domains_num   last_seen  external_num  internal_num  \n",
       "0          20866         2857  1734254195             6            27  \n",
       "1          15771          820  1731420176             0             0  \n",
       "2           1598          242  1734189665             6            27  \n",
       "3            400          159  1733961593             6            29  \n",
       "4            418           94  1732237042             0             0  "
      ]
     },
     "execution_count": 55,
     "metadata": {},
     "output_type": "execute_result"
    }
   ],
   "source": [
    "df_main.head()"
   ]
  },
  {
   "cell_type": "code",
   "execution_count": 56,
   "metadata": {},
   "outputs": [
    {
     "data": {
      "text/plain": [
       "(500000, 8)"
      ]
     },
     "execution_count": 56,
     "metadata": {},
     "output_type": "execute_result"
    }
   ],
   "source": [
    "df_main.shape"
   ]
  },
  {
   "cell_type": "code",
   "execution_count": 57,
   "metadata": {},
   "outputs": [
    {
     "name": "stdout",
     "output_type": "stream",
     "text": [
      "(315945, 8)\n",
      "(315945, 1)\n"
     ]
    }
   ],
   "source": [
    "df_filtered = df_main[df_main['source_url'].str.contains(r'^https://dice\\.fm/event/.*$', regex=True)]\n",
    "print(df_filtered.shape)\n",
    "df_filtered = df_filtered[[\"source_url\"]]\n",
    "df_filtered['source_url'] = df_filtered['source_url'].str.replace(r'\\?.*$', '', regex=True)\n",
    "print(df_filtered.shape)"
   ]
  },
  {
   "cell_type": "code",
   "execution_count": 58,
   "metadata": {},
   "outputs": [
    {
     "data": {
      "text/html": [
       "<div>\n",
       "<style scoped>\n",
       "    .dataframe tbody tr th:only-of-type {\n",
       "        vertical-align: middle;\n",
       "    }\n",
       "\n",
       "    .dataframe tbody tr th {\n",
       "        vertical-align: top;\n",
       "    }\n",
       "\n",
       "    .dataframe thead th {\n",
       "        text-align: right;\n",
       "    }\n",
       "</style>\n",
       "<table border=\"1\" class=\"dataframe\">\n",
       "  <thead>\n",
       "    <tr style=\"text-align: right;\">\n",
       "      <th></th>\n",
       "      <th>source_url</th>\n",
       "    </tr>\n",
       "  </thead>\n",
       "  <tbody>\n",
       "    <tr>\n",
       "      <th>378887</th>\n",
       "      <td>https://dice.fm/event/bbbram-donaeo-friends-ca...</td>\n",
       "    </tr>\n",
       "    <tr>\n",
       "      <th>399636</th>\n",
       "      <td>https://dice.fm/event/deqbq-havent-heard-of-it...</td>\n",
       "    </tr>\n",
       "    <tr>\n",
       "      <th>420538</th>\n",
       "      <td>https://dice.fm/event/eogno6-islington-comedy-...</td>\n",
       "    </tr>\n",
       "    <tr>\n",
       "      <th>386977</th>\n",
       "      <td>https://dice.fm/event/boqxm</td>\n",
       "    </tr>\n",
       "    <tr>\n",
       "      <th>263715</th>\n",
       "      <td>https://dice.fm/event/5337qk-tagua-tagua-heave...</td>\n",
       "    </tr>\n",
       "    <tr>\n",
       "      <th>256874</th>\n",
       "      <td>https://dice.fm/event/3oa9p-youth-27th-mar-the...</td>\n",
       "    </tr>\n",
       "    <tr>\n",
       "      <th>53848</th>\n",
       "      <td>https://dice.fm/event/33v7x</td>\n",
       "    </tr>\n",
       "    <tr>\n",
       "      <th>302660</th>\n",
       "      <td>https://dice.fm/event/75am7-over-easy-20th-apr...</td>\n",
       "    </tr>\n",
       "    <tr>\n",
       "      <th>256981</th>\n",
       "      <td>https://dice.fm/event/3ok56p-fly-sam-alfred-to...</td>\n",
       "    </tr>\n",
       "    <tr>\n",
       "      <th>299456</th>\n",
       "      <td>https://dice.fm/event/6vrkb-enrico-capuano-tam...</td>\n",
       "    </tr>\n",
       "  </tbody>\n",
       "</table>\n",
       "</div>"
      ],
      "text/plain": [
       "                                               source_url\n",
       "378887  https://dice.fm/event/bbbram-donaeo-friends-ca...\n",
       "399636  https://dice.fm/event/deqbq-havent-heard-of-it...\n",
       "420538  https://dice.fm/event/eogno6-islington-comedy-...\n",
       "386977                        https://dice.fm/event/boqxm\n",
       "263715  https://dice.fm/event/5337qk-tagua-tagua-heave...\n",
       "256874  https://dice.fm/event/3oa9p-youth-27th-mar-the...\n",
       "53848                         https://dice.fm/event/33v7x\n",
       "302660  https://dice.fm/event/75am7-over-easy-20th-apr...\n",
       "256981  https://dice.fm/event/3ok56p-fly-sam-alfred-to...\n",
       "299456  https://dice.fm/event/6vrkb-enrico-capuano-tam..."
      ]
     },
     "execution_count": 58,
     "metadata": {},
     "output_type": "execute_result"
    }
   ],
   "source": [
    "df_filtered.sample(10)"
   ]
  },
  {
   "cell_type": "code",
   "execution_count": 59,
   "metadata": {},
   "outputs": [
    {
     "data": {
      "text/plain": [
       "(315945,)"
      ]
     },
     "execution_count": 59,
     "metadata": {},
     "output_type": "execute_result"
    }
   ],
   "source": [
    "df_filtered.duplicated().shape"
   ]
  },
  {
   "cell_type": "code",
   "execution_count": 37,
   "metadata": {},
   "outputs": [
    {
     "data": {
      "text/html": [
       "<div>\n",
       "<style scoped>\n",
       "    .dataframe tbody tr th:only-of-type {\n",
       "        vertical-align: middle;\n",
       "    }\n",
       "\n",
       "    .dataframe tbody tr th {\n",
       "        vertical-align: top;\n",
       "    }\n",
       "\n",
       "    .dataframe thead th {\n",
       "        text-align: right;\n",
       "    }\n",
       "</style>\n",
       "<table border=\"1\" class=\"dataframe\">\n",
       "  <thead>\n",
       "    <tr style=\"text-align: right;\">\n",
       "      <th></th>\n",
       "      <th>source_url</th>\n",
       "    </tr>\n",
       "  </thead>\n",
       "  <tbody>\n",
       "    <tr>\n",
       "      <th>310745</th>\n",
       "      <td>https://dice.fm/event/7gwep-tyler-ramsey-28th-...</td>\n",
       "    </tr>\n",
       "  </tbody>\n",
       "</table>\n",
       "</div>"
      ],
      "text/plain": [
       "                                               source_url\n",
       "310745  https://dice.fm/event/7gwep-tyler-ramsey-28th-..."
      ]
     },
     "execution_count": 37,
     "metadata": {},
     "output_type": "execute_result"
    }
   ],
   "source": [
    "df_filtered[df_filtered[\"source_url\"]==\"https://dice.fm/event/7gwep-tyler-ramsey-28th-mar-gold-diggers-los-angeles-tickets\"]"
   ]
  },
  {
   "cell_type": "markdown",
   "metadata": {},
   "source": [
    "# Merging"
   ]
  },
  {
   "cell_type": "code",
   "execution_count": 17,
   "metadata": {},
   "outputs": [],
   "source": [
    "df_output = pd.read_excel(\"data/outputs/dice_events_DICE Event Links 1st batch - Sheet1_20241217_171759.xlsx\")\n",
    "df_input = pd.read_csv(\"data/inputs/Dice Batch_2 - Sheet1.csv\")"
   ]
  },
  {
   "cell_type": "code",
   "execution_count": 70,
   "metadata": {},
   "outputs": [
    {
     "data": {
      "text/html": [
       "<div>\n",
       "<style scoped>\n",
       "    .dataframe tbody tr th:only-of-type {\n",
       "        vertical-align: middle;\n",
       "    }\n",
       "\n",
       "    .dataframe tbody tr th {\n",
       "        vertical-align: top;\n",
       "    }\n",
       "\n",
       "    .dataframe thead th {\n",
       "        text-align: right;\n",
       "    }\n",
       "</style>\n",
       "<table border=\"1\" class=\"dataframe\">\n",
       "  <thead>\n",
       "    <tr style=\"text-align: right;\">\n",
       "      <th></th>\n",
       "      <th>id</th>\n",
       "      <th>url</th>\n",
       "      <th>processed</th>\n",
       "      <th>processing</th>\n",
       "      <th>sheet_name</th>\n",
       "      <th>event_name</th>\n",
       "      <th>date</th>\n",
       "      <th>location</th>\n",
       "      <th>organiser_name</th>\n",
       "      <th>_rid</th>\n",
       "      <th>_self</th>\n",
       "      <th>_etag</th>\n",
       "      <th>_attachments</th>\n",
       "      <th>_ts</th>\n",
       "      <th>error</th>\n",
       "    </tr>\n",
       "  </thead>\n",
       "  <tbody>\n",
       "    <tr>\n",
       "      <th>0</th>\n",
       "      <td>2151e4dbe8827f729394280a4bc1154c22fbdd768f3f53...</td>\n",
       "      <td>https://dice.fm/event/pnxwy-genova-summer-live...</td>\n",
       "      <td>True</td>\n",
       "      <td>0.0</td>\n",
       "      <td>DICE Event Links 1st batch - Sheet1</td>\n",
       "      <td>Genova Summer Live 2024</td>\n",
       "      <td>Sat, Jul 6, 2:50 PM</td>\n",
       "      <td>Calata Gadda, 16128 Genova GE, Italy</td>\n",
       "      <td>Tutte le età</td>\n",
       "      <td>66UjANGx7eIP6gAAAAAAAA==</td>\n",
       "      <td>dbs/66UjAA==/colls/66UjANGx7eI=/docs/66UjANGx7...</td>\n",
       "      <td>\"16004861-0000-0a00-0000-675d74d80000\"</td>\n",
       "      <td>attachments/</td>\n",
       "      <td>1734178008</td>\n",
       "      <td>NaN</td>\n",
       "    </tr>\n",
       "    <tr>\n",
       "      <th>1</th>\n",
       "      <td>c0e422821c3b15ac37cb7122e0c2711586f9bc5b8a55b4...</td>\n",
       "      <td>https://dice.fm/event/lp96x-lima-limo-presents...</td>\n",
       "      <td>True</td>\n",
       "      <td>0.0</td>\n",
       "      <td>DICE Event Links 1st batch - Sheet1</td>\n",
       "      <td>Lima Limo Presents: Loa &amp; The Vernon Spring</td>\n",
       "      <td>Tue, Jun 25, 7:30 PM</td>\n",
       "      <td>10A Bradbury Street, London N16 8JN</td>\n",
       "      <td>Presented by Lima Limo</td>\n",
       "      <td>66UjANGx7eIQ6gAAAAAAAA==</td>\n",
       "      <td>dbs/66UjAA==/colls/66UjANGx7eI=/docs/66UjANGx7...</td>\n",
       "      <td>\"16004961-0000-0a00-0000-675d74d90000\"</td>\n",
       "      <td>attachments/</td>\n",
       "      <td>1734178009</td>\n",
       "      <td>NaN</td>\n",
       "    </tr>\n",
       "    <tr>\n",
       "      <th>2</th>\n",
       "      <td>f5a6d31da667dc5e5dd27e309830e29fff7f5d20fa9ba5...</td>\n",
       "      <td>https://dice.fm/event/bnl3v-rock-arena-feat-di...</td>\n",
       "      <td>True</td>\n",
       "      <td>0.0</td>\n",
       "      <td>DICE Event Links 1st batch - Sheet1</td>\n",
       "      <td>ROCK ARENA FEAT DIAFRAMMA</td>\n",
       "      <td>Sat, Jan 7, 2023, 9:00 PM</td>\n",
       "      <td>Viale J. F. Kennedy, 52, 00043 Ciampino RM, Italy</td>\n",
       "      <td>Presentato da ORION LIVE S.R.L..</td>\n",
       "      <td>66UjANGx7eIR6gAAAAAAAA==</td>\n",
       "      <td>dbs/66UjAA==/colls/66UjANGx7eI=/docs/66UjANGx7...</td>\n",
       "      <td>\"16004761-0000-0a00-0000-675d74d80000\"</td>\n",
       "      <td>attachments/</td>\n",
       "      <td>1734178008</td>\n",
       "      <td>NaN</td>\n",
       "    </tr>\n",
       "    <tr>\n",
       "      <th>3</th>\n",
       "      <td>12c236bbb0ff28967dc66b155e443938bceb4b89f76410...</td>\n",
       "      <td>https://dice.fm/event/qdk89-firmament-27th-mar...</td>\n",
       "      <td>True</td>\n",
       "      <td>0.0</td>\n",
       "      <td>DICE Event Links 1st batch - Sheet1</td>\n",
       "      <td>Denial presents: DAMEFRISØR</td>\n",
       "      <td>Wed, Mar 27, 7:30 PM</td>\n",
       "      <td>96-98 Pentonville Rd, London N1 9JB</td>\n",
       "      <td>Presented by Denial</td>\n",
       "      <td>66UjANGx7eIS6gAAAAAAAA==</td>\n",
       "      <td>dbs/66UjAA==/colls/66UjANGx7eI=/docs/66UjANGx7...</td>\n",
       "      <td>\"16004a61-0000-0a00-0000-675d74d90000\"</td>\n",
       "      <td>attachments/</td>\n",
       "      <td>1734178009</td>\n",
       "      <td>NaN</td>\n",
       "    </tr>\n",
       "    <tr>\n",
       "      <th>4</th>\n",
       "      <td>cc6fcd9e900bbcfebe449d0fedf1bde046822e26f6b135...</td>\n",
       "      <td>https://dice.fm/event/gd3bb-comedy-special-rec...</td>\n",
       "      <td>True</td>\n",
       "      <td>0.0</td>\n",
       "      <td>DICE Event Links 1st batch - Sheet1</td>\n",
       "      <td>Comedy Special Recordings - Full Day Ticket</td>\n",
       "      <td>Sun, Jul 16, 2023, 2:00 PM</td>\n",
       "      <td>Old Trades Hall, Valette Street, London E9 6NU</td>\n",
       "      <td>Presented by LNZRT LTD.</td>\n",
       "      <td>66UjANGx7eIT6gAAAAAAAA==</td>\n",
       "      <td>dbs/66UjAA==/colls/66UjANGx7eI=/docs/66UjANGx7...</td>\n",
       "      <td>\"1600af61-0000-0a00-0000-675d74e10000\"</td>\n",
       "      <td>attachments/</td>\n",
       "      <td>1734178017</td>\n",
       "      <td>NaN</td>\n",
       "    </tr>\n",
       "  </tbody>\n",
       "</table>\n",
       "</div>"
      ],
      "text/plain": [
       "                                                  id  \\\n",
       "0  2151e4dbe8827f729394280a4bc1154c22fbdd768f3f53...   \n",
       "1  c0e422821c3b15ac37cb7122e0c2711586f9bc5b8a55b4...   \n",
       "2  f5a6d31da667dc5e5dd27e309830e29fff7f5d20fa9ba5...   \n",
       "3  12c236bbb0ff28967dc66b155e443938bceb4b89f76410...   \n",
       "4  cc6fcd9e900bbcfebe449d0fedf1bde046822e26f6b135...   \n",
       "\n",
       "                                                 url  processed  processing  \\\n",
       "0  https://dice.fm/event/pnxwy-genova-summer-live...       True         0.0   \n",
       "1  https://dice.fm/event/lp96x-lima-limo-presents...       True         0.0   \n",
       "2  https://dice.fm/event/bnl3v-rock-arena-feat-di...       True         0.0   \n",
       "3  https://dice.fm/event/qdk89-firmament-27th-mar...       True         0.0   \n",
       "4  https://dice.fm/event/gd3bb-comedy-special-rec...       True         0.0   \n",
       "\n",
       "                            sheet_name  \\\n",
       "0  DICE Event Links 1st batch - Sheet1   \n",
       "1  DICE Event Links 1st batch - Sheet1   \n",
       "2  DICE Event Links 1st batch - Sheet1   \n",
       "3  DICE Event Links 1st batch - Sheet1   \n",
       "4  DICE Event Links 1st batch - Sheet1   \n",
       "\n",
       "                                    event_name                        date  \\\n",
       "0                      Genova Summer Live 2024         Sat, Jul 6, 2:50 PM   \n",
       "1  Lima Limo Presents: Loa & The Vernon Spring        Tue, Jun 25, 7:30 PM   \n",
       "2                    ROCK ARENA FEAT DIAFRAMMA   Sat, Jan 7, 2023, 9:00 PM   \n",
       "3                  Denial presents: DAMEFRISØR        Wed, Mar 27, 7:30 PM   \n",
       "4  Comedy Special Recordings - Full Day Ticket  Sun, Jul 16, 2023, 2:00 PM   \n",
       "\n",
       "                                            location  \\\n",
       "0               Calata Gadda, 16128 Genova GE, Italy   \n",
       "1                10A Bradbury Street, London N16 8JN   \n",
       "2  Viale J. F. Kennedy, 52, 00043 Ciampino RM, Italy   \n",
       "3                96-98 Pentonville Rd, London N1 9JB   \n",
       "4     Old Trades Hall, Valette Street, London E9 6NU   \n",
       "\n",
       "                     organiser_name                      _rid  \\\n",
       "0                      Tutte le età  66UjANGx7eIP6gAAAAAAAA==   \n",
       "1            Presented by Lima Limo  66UjANGx7eIQ6gAAAAAAAA==   \n",
       "2  Presentato da ORION LIVE S.R.L..  66UjANGx7eIR6gAAAAAAAA==   \n",
       "3               Presented by Denial  66UjANGx7eIS6gAAAAAAAA==   \n",
       "4           Presented by LNZRT LTD.  66UjANGx7eIT6gAAAAAAAA==   \n",
       "\n",
       "                                               _self  \\\n",
       "0  dbs/66UjAA==/colls/66UjANGx7eI=/docs/66UjANGx7...   \n",
       "1  dbs/66UjAA==/colls/66UjANGx7eI=/docs/66UjANGx7...   \n",
       "2  dbs/66UjAA==/colls/66UjANGx7eI=/docs/66UjANGx7...   \n",
       "3  dbs/66UjAA==/colls/66UjANGx7eI=/docs/66UjANGx7...   \n",
       "4  dbs/66UjAA==/colls/66UjANGx7eI=/docs/66UjANGx7...   \n",
       "\n",
       "                                    _etag  _attachments         _ts error  \n",
       "0  \"16004861-0000-0a00-0000-675d74d80000\"  attachments/  1734178008   NaN  \n",
       "1  \"16004961-0000-0a00-0000-675d74d90000\"  attachments/  1734178009   NaN  \n",
       "2  \"16004761-0000-0a00-0000-675d74d80000\"  attachments/  1734178008   NaN  \n",
       "3  \"16004a61-0000-0a00-0000-675d74d90000\"  attachments/  1734178009   NaN  \n",
       "4  \"1600af61-0000-0a00-0000-675d74e10000\"  attachments/  1734178017   NaN  "
      ]
     },
     "execution_count": 70,
     "metadata": {},
     "output_type": "execute_result"
    }
   ],
   "source": [
    "df_output.head()"
   ]
  },
  {
   "cell_type": "code",
   "execution_count": 71,
   "metadata": {},
   "outputs": [
    {
     "data": {
      "text/html": [
       "<div>\n",
       "<style scoped>\n",
       "    .dataframe tbody tr th:only-of-type {\n",
       "        vertical-align: middle;\n",
       "    }\n",
       "\n",
       "    .dataframe tbody tr th {\n",
       "        vertical-align: top;\n",
       "    }\n",
       "\n",
       "    .dataframe thead th {\n",
       "        text-align: right;\n",
       "    }\n",
       "</style>\n",
       "<table border=\"1\" class=\"dataframe\">\n",
       "  <thead>\n",
       "    <tr style=\"text-align: right;\">\n",
       "      <th></th>\n",
       "      <th>Links</th>\n",
       "    </tr>\n",
       "  </thead>\n",
       "  <tbody>\n",
       "    <tr>\n",
       "      <th>0</th>\n",
       "      <td>https://dice.fm/event/dj-yoda-presents-the-str...</td>\n",
       "    </tr>\n",
       "    <tr>\n",
       "      <th>1</th>\n",
       "      <td>https://dice.fm/event/dj-yoda-the-heatwave-27t...</td>\n",
       "    </tr>\n",
       "    <tr>\n",
       "      <th>2</th>\n",
       "      <td>https://dice.fm/event/dj-yodas-halloween-night...</td>\n",
       "    </tr>\n",
       "    <tr>\n",
       "      <th>3</th>\n",
       "      <td>https://dice.fm/event/dj-zinc-cause-affect-5th...</td>\n",
       "    </tr>\n",
       "    <tr>\n",
       "      <th>4</th>\n",
       "      <td>https://dice.fm/event/dj-zinc-trust-me-i-was-t...</td>\n",
       "    </tr>\n",
       "  </tbody>\n",
       "</table>\n",
       "</div>"
      ],
      "text/plain": [
       "                                               Links\n",
       "0  https://dice.fm/event/dj-yoda-presents-the-str...\n",
       "1  https://dice.fm/event/dj-yoda-the-heatwave-27t...\n",
       "2  https://dice.fm/event/dj-yodas-halloween-night...\n",
       "3  https://dice.fm/event/dj-zinc-cause-affect-5th...\n",
       "4  https://dice.fm/event/dj-zinc-trust-me-i-was-t..."
      ]
     },
     "execution_count": 71,
     "metadata": {},
     "output_type": "execute_result"
    }
   ],
   "source": [
    "df_input.head()"
   ]
  },
  {
   "cell_type": "code",
   "execution_count": 72,
   "metadata": {},
   "outputs": [],
   "source": [
    "common_urls = set(df_output['url']).intersection(set(df_input['Links']))"
   ]
  },
  {
   "cell_type": "code",
   "execution_count": 73,
   "metadata": {},
   "outputs": [
    {
     "data": {
      "text/plain": [
       "(50533, (188986, 1))"
      ]
     },
     "execution_count": 73,
     "metadata": {},
     "output_type": "execute_result"
    }
   ],
   "source": [
    "len(common_urls), df_input.shape"
   ]
  },
  {
   "cell_type": "code",
   "execution_count": 74,
   "metadata": {},
   "outputs": [],
   "source": [
    "df1_filtered = df_input[~df_input['Links'].isin(common_urls)]"
   ]
  },
  {
   "cell_type": "code",
   "execution_count": 77,
   "metadata": {},
   "outputs": [
    {
     "data": {
      "text/html": [
       "<div>\n",
       "<style scoped>\n",
       "    .dataframe tbody tr th:only-of-type {\n",
       "        vertical-align: middle;\n",
       "    }\n",
       "\n",
       "    .dataframe tbody tr th {\n",
       "        vertical-align: top;\n",
       "    }\n",
       "\n",
       "    .dataframe thead th {\n",
       "        text-align: right;\n",
       "    }\n",
       "</style>\n",
       "<table border=\"1\" class=\"dataframe\">\n",
       "  <thead>\n",
       "    <tr style=\"text-align: right;\">\n",
       "      <th></th>\n",
       "      <th>Links</th>\n",
       "    </tr>\n",
       "  </thead>\n",
       "  <tbody>\n",
       "    <tr>\n",
       "      <th>8</th>\n",
       "      <td>https://dice.fm/event/dk23q-dave-9th-may-the-e...</td>\n",
       "    </tr>\n",
       "    <tr>\n",
       "      <th>10</th>\n",
       "      <td>https://dice.fm/event/dk27g-mallory-knox-17th-...</td>\n",
       "    </tr>\n",
       "    <tr>\n",
       "      <th>11</th>\n",
       "      <td>https://dice.fm/event/dk28q-stella-donnelly-7t...</td>\n",
       "    </tr>\n",
       "    <tr>\n",
       "      <th>17</th>\n",
       "      <td>https://dice.fm/event/dk2x6-born-ruffians-8th-...</td>\n",
       "    </tr>\n",
       "    <tr>\n",
       "      <th>18</th>\n",
       "      <td>https://dice.fm/event/dk2x6-born-ruffians-8th-...</td>\n",
       "    </tr>\n",
       "  </tbody>\n",
       "</table>\n",
       "</div>"
      ],
      "text/plain": [
       "                                                Links\n",
       "8   https://dice.fm/event/dk23q-dave-9th-may-the-e...\n",
       "10  https://dice.fm/event/dk27g-mallory-knox-17th-...\n",
       "11  https://dice.fm/event/dk28q-stella-donnelly-7t...\n",
       "17  https://dice.fm/event/dk2x6-born-ruffians-8th-...\n",
       "18  https://dice.fm/event/dk2x6-born-ruffians-8th-..."
      ]
     },
     "execution_count": 77,
     "metadata": {},
     "output_type": "execute_result"
    }
   ],
   "source": [
    "df1_filtered.head()"
   ]
  },
  {
   "cell_type": "code",
   "execution_count": 78,
   "metadata": {},
   "outputs": [],
   "source": [
    "df1_filtered.to_csv(\"data/inputs/Dice Batch 3.csv\")"
   ]
  },
  {
   "cell_type": "markdown",
   "metadata": {},
   "source": [
    "# Last Batch"
   ]
  },
  {
   "cell_type": "code",
   "execution_count": 8,
   "metadata": {},
   "outputs": [
    {
     "data": {
      "text/html": [
       "<div>\n",
       "<style scoped>\n",
       "    .dataframe tbody tr th:only-of-type {\n",
       "        vertical-align: middle;\n",
       "    }\n",
       "\n",
       "    .dataframe tbody tr th {\n",
       "        vertical-align: top;\n",
       "    }\n",
       "\n",
       "    .dataframe thead th {\n",
       "        text-align: right;\n",
       "    }\n",
       "</style>\n",
       "<table border=\"1\" class=\"dataframe\">\n",
       "  <thead>\n",
       "    <tr style=\"text-align: right;\">\n",
       "      <th></th>\n",
       "      <th>Unnamed: 0</th>\n",
       "      <th>Links</th>\n",
       "    </tr>\n",
       "  </thead>\n",
       "  <tbody>\n",
       "    <tr>\n",
       "      <th>0</th>\n",
       "      <td>8</td>\n",
       "      <td>https://dice.fm/event/dk23q-dave-9th-may-the-e...</td>\n",
       "    </tr>\n",
       "    <tr>\n",
       "      <th>1</th>\n",
       "      <td>10</td>\n",
       "      <td>https://dice.fm/event/dk27g-mallory-knox-17th-...</td>\n",
       "    </tr>\n",
       "    <tr>\n",
       "      <th>2</th>\n",
       "      <td>11</td>\n",
       "      <td>https://dice.fm/event/dk28q-stella-donnelly-7t...</td>\n",
       "    </tr>\n",
       "    <tr>\n",
       "      <th>3</th>\n",
       "      <td>17</td>\n",
       "      <td>https://dice.fm/event/dk2x6-born-ruffians-8th-...</td>\n",
       "    </tr>\n",
       "    <tr>\n",
       "      <th>4</th>\n",
       "      <td>18</td>\n",
       "      <td>https://dice.fm/event/dk2x6-born-ruffians-8th-...</td>\n",
       "    </tr>\n",
       "  </tbody>\n",
       "</table>\n",
       "</div>"
      ],
      "text/plain": [
       "   Unnamed: 0                                              Links\n",
       "0           8  https://dice.fm/event/dk23q-dave-9th-may-the-e...\n",
       "1          10  https://dice.fm/event/dk27g-mallory-knox-17th-...\n",
       "2          11  https://dice.fm/event/dk28q-stella-donnelly-7t...\n",
       "3          17  https://dice.fm/event/dk2x6-born-ruffians-8th-...\n",
       "4          18  https://dice.fm/event/dk2x6-born-ruffians-8th-..."
      ]
     },
     "execution_count": 8,
     "metadata": {},
     "output_type": "execute_result"
    }
   ],
   "source": [
    "df_output = pd.read_csv(\"data/inputs/Dice Batch 3.csv\")\n",
    "df_output.head()"
   ]
  },
  {
   "cell_type": "code",
   "execution_count": 13,
   "metadata": {},
   "outputs": [
    {
     "name": "stdout",
     "output_type": "stream",
     "text": [
      "(46333, 8)\n",
      "(46333, 1)\n"
     ]
    },
    {
     "data": {
      "text/html": [
       "<div>\n",
       "<style scoped>\n",
       "    .dataframe tbody tr th:only-of-type {\n",
       "        vertical-align: middle;\n",
       "    }\n",
       "\n",
       "    .dataframe tbody tr th {\n",
       "        vertical-align: top;\n",
       "    }\n",
       "\n",
       "    .dataframe thead th {\n",
       "        text-align: right;\n",
       "    }\n",
       "</style>\n",
       "<table border=\"1\" class=\"dataframe\">\n",
       "  <thead>\n",
       "    <tr style=\"text-align: right;\">\n",
       "      <th></th>\n",
       "      <th>source_url</th>\n",
       "    </tr>\n",
       "  </thead>\n",
       "  <tbody>\n",
       "    <tr>\n",
       "      <th>4</th>\n",
       "      <td>https://dice.fm/event/moxbl-boiler-room-miami-...</td>\n",
       "    </tr>\n",
       "    <tr>\n",
       "      <th>5</th>\n",
       "      <td>https://dice.fm/event/25gxp-spring-festival-lu...</td>\n",
       "    </tr>\n",
       "    <tr>\n",
       "      <th>7</th>\n",
       "      <td>https://dice.fm/event/79836-radio-company-live...</td>\n",
       "    </tr>\n",
       "    <tr>\n",
       "      <th>9</th>\n",
       "      <td>https://dice.fm/event/rr62r-retro5pective-20-y...</td>\n",
       "    </tr>\n",
       "    <tr>\n",
       "      <th>10</th>\n",
       "      <td>https://dice.fm/event/6ap53-bright-magus-in-co...</td>\n",
       "    </tr>\n",
       "  </tbody>\n",
       "</table>\n",
       "</div>"
      ],
      "text/plain": [
       "                                           source_url\n",
       "4   https://dice.fm/event/moxbl-boiler-room-miami-...\n",
       "5   https://dice.fm/event/25gxp-spring-festival-lu...\n",
       "7   https://dice.fm/event/79836-radio-company-live...\n",
       "9   https://dice.fm/event/rr62r-retro5pective-20-y...\n",
       "10  https://dice.fm/event/6ap53-bright-magus-in-co..."
      ]
     },
     "execution_count": 13,
     "metadata": {},
     "output_type": "execute_result"
    }
   ],
   "source": [
    "df_input = pd.read_csv('data/inputs/100k_response - 100k_response.csv')\n",
    "df_input = df_input[df_input['source_url'].str.contains(r'^https://dice\\.fm/event/.*$', regex=True)]\n",
    "print(df_input.shape)\n",
    "\n",
    "df_input = df_input[[\"source_url\"]]\n",
    "df_input['source_url'] = df_input['source_url'].str.replace(r'\\?.*$', '', regex=True)\n",
    "print(df_input.shape)\n",
    "\n",
    "df_input.head()"
   ]
  },
  {
   "cell_type": "code",
   "execution_count": 14,
   "metadata": {},
   "outputs": [],
   "source": [
    "common_urls = set(df_output['Links']).intersection(set(df_input['source_url']))"
   ]
  },
  {
   "cell_type": "code",
   "execution_count": 16,
   "metadata": {},
   "outputs": [
    {
     "data": {
      "text/plain": [
       "(2, (46333, 1), (138453, 2))"
      ]
     },
     "execution_count": 16,
     "metadata": {},
     "output_type": "execute_result"
    }
   ],
   "source": [
    "len(common_urls), df_input.shape, df_output.shape"
   ]
  },
  {
   "cell_type": "code",
   "execution_count": null,
   "metadata": {},
   "outputs": [],
   "source": []
  }
 ],
 "metadata": {
  "kernelspec": {
   "display_name": "venv",
   "language": "python",
   "name": "python3"
  },
  "language_info": {
   "codemirror_mode": {
    "name": "ipython",
    "version": 3
   },
   "file_extension": ".py",
   "mimetype": "text/x-python",
   "name": "python",
   "nbconvert_exporter": "python",
   "pygments_lexer": "ipython3",
   "version": "3.9.20"
  }
 },
 "nbformat": 4,
 "nbformat_minor": 2
}
