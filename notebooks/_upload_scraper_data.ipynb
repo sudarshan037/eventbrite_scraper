{
 "cells": [
  {
   "cell_type": "code",
   "execution_count": 8,
   "metadata": {},
   "outputs": [],
   "source": [
    "import os\n",
    "\n",
    "if \"notebooks\" in os.getcwd():\n",
    "    os.chdir(\"..\")"
   ]
  },
  {
   "cell_type": "code",
   "execution_count": 9,
   "metadata": {},
   "outputs": [],
   "source": [
    "from tqdm.notebook import tqdm"
   ]
  },
  {
   "cell_type": "code",
   "execution_count": 10,
   "metadata": {},
   "outputs": [
    {
     "name": "stdout",
     "output_type": "stream",
     "text": [
      "[INFO] Cosmos client created\n"
     ]
    }
   ],
   "source": [
    "from azure_cosmos_db import *\n",
    "\n",
    "azure_cosmos = AzureCosmos()\n",
    "\n",
    "azure_cosmos.list_containers()"
   ]
  },
  {
   "cell_type": "markdown",
   "metadata": {},
   "source": [
    "# Events, Dice & Shotgun Scraper"
   ]
  },
  {
   "cell_type": "code",
   "execution_count": null,
   "metadata": {},
   "outputs": [],
   "source": [
    "SCRAPER_NAME = \"\"\n",
    "INPUT_FILE_PATH = \"\""
   ]
  },
  {
   "cell_type": "code",
   "execution_count": null,
   "metadata": {},
   "outputs": [],
   "source": [
    "azure_cosmos.DATABASE_ID = \"Scraper\"\n",
    "azure_cosmos.CONTAINER_NAME = SCRAPER_NAME\n",
    "\n",
    "azure_cosmos.container = azure_cosmos.initialize_cosmosdb()"
   ]
  },
  {
   "cell_type": "code",
   "execution_count": null,
   "metadata": {},
   "outputs": [],
   "source": [
    "df = pd.read_csv(INPUT_FILE_PATH)\n",
    "\n",
    "df.head()"
   ]
  },
  {
   "cell_type": "code",
   "execution_count": null,
   "metadata": {},
   "outputs": [],
   "source": [
    "urls = df[\"Event_link\"].to_list()\n",
    "\n",
    "for url in tqdm(urls, desc=f\"Uploading {len(url)} URLs to {SCRAPER_NAME}\"):\n",
    "        print(url)\n",
    "        data = {\n",
    "            \"id\": hashlib.sha256(url.encode()).hexdigest(),\n",
    "            \"url\": url,\n",
    "            \"processed\": False,\n",
    "            \"links\": \"first\"     # added because it is partition key in one or more scrapers\n",
    "        }\n",
    "        azure_cosmos.create_conversation(conversation_data=data)"
   ]
  }
 ],
 "metadata": {
  "kernelspec": {
   "display_name": "venv",
   "language": "python",
   "name": "python3"
  },
  "language_info": {
   "codemirror_mode": {
    "name": "ipython",
    "version": 3
   },
   "file_extension": ".py",
   "mimetype": "text/x-python",
   "name": "python",
   "nbconvert_exporter": "python",
   "pygments_lexer": "ipython3",
   "version": "3.9.19"
  }
 },
 "nbformat": 4,
 "nbformat_minor": 2
}
