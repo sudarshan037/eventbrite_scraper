{
 "cells": [
  {
   "cell_type": "code",
   "execution_count": 29,
   "metadata": {},
   "outputs": [],
   "source": [
    "import os\n",
    "\n",
    "if \"notebooks\" in os.getcwd():\n",
    "    os.chdir(\"..\")"
   ]
  },
  {
   "cell_type": "code",
   "execution_count": 30,
   "metadata": {},
   "outputs": [],
   "source": [
    "from tqdm.notebook import tqdm"
   ]
  },
  {
   "cell_type": "code",
   "execution_count": 31,
   "metadata": {},
   "outputs": [
    {
     "name": "stdout",
     "output_type": "stream",
     "text": [
      "[INFO] Cosmos client created\n"
     ]
    },
    {
     "data": {
      "text/plain": [
       "['eventBrite_links',\n",
       " 'eventBrite_outputs',\n",
       " 'eventBrite_events',\n",
       " 'dice_events',\n",
       " 'shotgun_events']"
      ]
     },
     "execution_count": 31,
     "metadata": {},
     "output_type": "execute_result"
    }
   ],
   "source": [
    "from azure_cosmos_db import *\n",
    "\n",
    "azure_cosmos = AzureCosmos()\n",
    "\n",
    "azure_cosmos.list_containers()"
   ]
  },
  {
   "cell_type": "markdown",
   "metadata": {},
   "source": [
    "# Events, Dice & Shotgun Scraper"
   ]
  },
  {
   "cell_type": "code",
   "execution_count": 32,
   "metadata": {},
   "outputs": [],
   "source": [
    "SCRAPER_NAME = \"eventBrite_links\"\n",
    "INPUT_FILE_PATH = \"data/inputs/Virginia Beach Key Date - Virginia Beach.csv\"\n",
    "SHEET_NAME = \"Sheet4\""
   ]
  },
  {
   "cell_type": "code",
   "execution_count": 33,
   "metadata": {},
   "outputs": [
    {
     "name": "stdout",
     "output_type": "stream",
     "text": [
      "[INFO] Cosmos client created\n"
     ]
    }
   ],
   "source": [
    "azure_cosmos.DATABASE_ID = \"Scraper\"\n",
    "azure_cosmos.CONTAINER_NAME = SCRAPER_NAME\n",
    "\n",
    "azure_cosmos.container = azure_cosmos.initialize_cosmosdb()"
   ]
  },
  {
   "cell_type": "code",
   "execution_count": 34,
   "metadata": {},
   "outputs": [
    {
     "name": "stdout",
     "output_type": "stream",
     "text": [
      "Virginia Beach Key Date - Virginia Beach\n"
     ]
    },
    {
     "data": {
      "text/html": [
       "<div>\n",
       "<style scoped>\n",
       "    .dataframe tbody tr th:only-of-type {\n",
       "        vertical-align: middle;\n",
       "    }\n",
       "\n",
       "    .dataframe tbody tr th {\n",
       "        vertical-align: top;\n",
       "    }\n",
       "\n",
       "    .dataframe thead th {\n",
       "        text-align: right;\n",
       "    }\n",
       "</style>\n",
       "<table border=\"1\" class=\"dataframe\">\n",
       "  <thead>\n",
       "    <tr style=\"text-align: right;\">\n",
       "      <th></th>\n",
       "      <th>Links</th>\n",
       "      <th>Unnamed: 1</th>\n",
       "      <th>Unnamed: 2</th>\n",
       "      <th>Unnamed: 3</th>\n",
       "      <th>Unnamed: 4</th>\n",
       "      <th>Unnamed: 5</th>\n",
       "    </tr>\n",
       "  </thead>\n",
       "  <tbody>\n",
       "    <tr>\n",
       "      <th>0</th>\n",
       "      <td>https://www.eventbrite.com/d/va--virginia-beac...</td>\n",
       "      <td>NaN</td>\n",
       "      <td>NaN</td>\n",
       "      <td>NaN</td>\n",
       "      <td>NaN</td>\n",
       "      <td>NaN</td>\n",
       "    </tr>\n",
       "    <tr>\n",
       "      <th>1</th>\n",
       "      <td>https://www.eventbrite.com/d/va--virginia-beac...</td>\n",
       "      <td>NaN</td>\n",
       "      <td>NaN</td>\n",
       "      <td>NaN</td>\n",
       "      <td>NaN</td>\n",
       "      <td>NaN</td>\n",
       "    </tr>\n",
       "    <tr>\n",
       "      <th>2</th>\n",
       "      <td>https://www.eventbrite.com/d/va--virginia-beac...</td>\n",
       "      <td>NaN</td>\n",
       "      <td>NaN</td>\n",
       "      <td>NaN</td>\n",
       "      <td>NaN</td>\n",
       "      <td>NaN</td>\n",
       "    </tr>\n",
       "    <tr>\n",
       "      <th>3</th>\n",
       "      <td>https://www.eventbrite.com/d/va--virginia-beac...</td>\n",
       "      <td>NaN</td>\n",
       "      <td>NaN</td>\n",
       "      <td>NaN</td>\n",
       "      <td>NaN</td>\n",
       "      <td>NaN</td>\n",
       "    </tr>\n",
       "    <tr>\n",
       "      <th>4</th>\n",
       "      <td>https://www.eventbrite.com/d/va--virginia-beac...</td>\n",
       "      <td>NaN</td>\n",
       "      <td>NaN</td>\n",
       "      <td>NaN</td>\n",
       "      <td>NaN</td>\n",
       "      <td>NaN</td>\n",
       "    </tr>\n",
       "  </tbody>\n",
       "</table>\n",
       "</div>"
      ],
      "text/plain": [
       "                                               Links  Unnamed: 1  Unnamed: 2  \\\n",
       "0  https://www.eventbrite.com/d/va--virginia-beac...         NaN         NaN   \n",
       "1  https://www.eventbrite.com/d/va--virginia-beac...         NaN         NaN   \n",
       "2  https://www.eventbrite.com/d/va--virginia-beac...         NaN         NaN   \n",
       "3  https://www.eventbrite.com/d/va--virginia-beac...         NaN         NaN   \n",
       "4  https://www.eventbrite.com/d/va--virginia-beac...         NaN         NaN   \n",
       "\n",
       "   Unnamed: 3  Unnamed: 4 Unnamed: 5  \n",
       "0         NaN         NaN        NaN  \n",
       "1         NaN         NaN        NaN  \n",
       "2         NaN         NaN        NaN  \n",
       "3         NaN         NaN        NaN  \n",
       "4         NaN         NaN        NaN  "
      ]
     },
     "execution_count": 34,
     "metadata": {},
     "output_type": "execute_result"
    }
   ],
   "source": [
    "df = pd.read_csv(INPUT_FILE_PATH)\n",
    "SHEET_NAME = os.path.splitext(os.path.basename(INPUT_FILE_PATH))[0]\n",
    "print(SHEET_NAME)\n",
    "# df = pd.read_excel(INPUT_FILE_PATH, sheet_name=SHEET_NAME)\n",
    "\n",
    "df.head()"
   ]
  },
  {
   "cell_type": "code",
   "execution_count": 35,
   "metadata": {},
   "outputs": [
    {
     "data": {
      "application/vnd.jupyter.widget-view+json": {
       "model_id": "ceaf8825102a46a98939209fc393a1ee",
       "version_major": 2,
       "version_minor": 0
      },
      "text/plain": [
       "Uploading 40 URLs to eventBrite_links:   0%|          | 0/40 [00:00<?, ?it/s]"
      ]
     },
     "metadata": {},
     "output_type": "display_data"
    },
    {
     "name": "stdout",
     "output_type": "stream",
     "text": [
      "https://www.eventbrite.com/d/va--virginia-beach/paid--parties/?page=1\n",
      "[INFO] Conversation created successfully\n",
      "https://www.eventbrite.com/d/va--virginia-beach/paid--parties/?page=2\n",
      "[INFO] Conversation created successfully\n",
      "https://www.eventbrite.com/d/va--virginia-beach/paid--parties/?page=3\n",
      "[INFO] Conversation created successfully\n",
      "https://www.eventbrite.com/d/va--virginia-beach/paid--parties/?page=4\n",
      "[INFO] Conversation created successfully\n",
      "https://www.eventbrite.com/d/va--virginia-beach/paid--parties/?page=5\n",
      "[INFO] Conversation created successfully\n",
      "https://www.eventbrite.com/d/va--virginia-beach/paid--parties/?page=6\n",
      "[INFO] Conversation created successfully\n",
      "https://www.eventbrite.com/d/va--virginia-beach/paid--parties/?page=7\n",
      "[INFO] Conversation created successfully\n",
      "https://www.eventbrite.com/d/va--virginia-beach/paid--parties/?page=8\n",
      "[INFO] Conversation created successfully\n",
      "https://www.eventbrite.com/d/va--virginia-beach/paid--parties/?page=9\n",
      "[INFO] Conversation created successfully\n",
      "https://www.eventbrite.com/d/va--virginia-beach/paid--parties/?page=10\n",
      "[INFO] Conversation created successfully\n",
      "https://www.eventbrite.com/d/va--virginia-beach/paid--parties/?page=11\n",
      "[INFO] Conversation created successfully\n",
      "https://www.eventbrite.com/d/va--virginia-beach/paid--parties/?page=12\n",
      "[INFO] Conversation created successfully\n",
      "https://www.eventbrite.com/d/va--virginia-beach/paid--parties/?page=13\n",
      "[INFO] Conversation created successfully\n",
      "https://www.eventbrite.com/d/va--virginia-beach/paid--parties/?page=14\n",
      "[INFO] Conversation created successfully\n",
      "https://www.eventbrite.com/d/va--virginia-beach/paid--parties/?page=15\n",
      "[INFO] Conversation created successfully\n",
      "https://www.eventbrite.com/d/va--virginia-beach/paid--parties/?page=16\n",
      "[INFO] Conversation created successfully\n",
      "https://www.eventbrite.com/d/va--virginia-beach/paid--parties/?page=17\n",
      "[INFO] Conversation created successfully\n",
      "https://www.eventbrite.com/d/va--virginia-beach/paid--parties/?page=18\n",
      "[INFO] Conversation created successfully\n",
      "https://www.eventbrite.com/d/va--virginia-beach/paid--parties/?page=19\n",
      "[INFO] Conversation created successfully\n",
      "https://www.eventbrite.com/d/va--virginia-beach/paid--parties/?page=20\n",
      "[INFO] Conversation created successfully\n",
      "https://www.eventbrite.com/d/va--virginia-beach/paid--parties/?page=21\n",
      "[INFO] Conversation created successfully\n",
      "https://www.eventbrite.com/d/va--virginia-beach/paid--festivals/?page=1\n",
      "[INFO] Conversation created successfully\n",
      "https://www.eventbrite.com/d/va--virginia-beach/paid--festivals/?page=2\n",
      "[INFO] Conversation created successfully\n",
      "https://www.eventbrite.com/d/va--virginia-beach/paid--festivals/?page=3\n",
      "[INFO] Conversation created successfully\n",
      "https://www.eventbrite.com/d/va--virginia-beach/paid--festivals/?page=4\n",
      "[INFO] Conversation created successfully\n",
      "https://www.eventbrite.com/d/va--virginia-beach/paid--galas/?page=1\n",
      "[INFO] Conversation created successfully\n",
      "https://www.eventbrite.com/d/va--virginia-beach/paid--galas/?page=2\n",
      "[INFO] Conversation created successfully\n",
      "https://www.eventbrite.com/d/va--virginia-beach/paid--galas/?page=3\n",
      "[INFO] Conversation created successfully\n",
      "https://www.eventbrite.com/d/va--virginia-beach/paid--performances/?page=1\n",
      "[INFO] Conversation created successfully\n",
      "https://www.eventbrite.com/d/va--virginia-beach/paid--performances/?page=2\n",
      "[INFO] Conversation created successfully\n",
      "https://www.eventbrite.com/d/va--virginia-beach/paid--performances/?page=3\n",
      "[INFO] Conversation created successfully\n",
      "https://www.eventbrite.com/d/va--virginia-beach/paid--performances/?page=4\n",
      "[INFO] Conversation created successfully\n",
      "https://www.eventbrite.com/d/va--virginia-beach/paid--performances/?page=5\n",
      "[INFO] Conversation created successfully\n",
      "https://www.eventbrite.com/d/va--virginia-beach/paid--performances/?page=6\n",
      "[INFO] Conversation created successfully\n",
      "https://www.eventbrite.com/d/va--virginia-beach/paid--performances/?page=7\n",
      "[INFO] Conversation created successfully\n",
      "https://www.eventbrite.com/d/va--virginia-beach/paid--performances/?page=8\n",
      "[INFO] Conversation created successfully\n",
      "https://www.eventbrite.com/d/va--virginia-beach/paid--performances/?page=9\n",
      "[INFO] Conversation created successfully\n",
      "https://www.eventbrite.com/d/va--virginia-beach/paid--performances/?page=10\n",
      "[INFO] Conversation created successfully\n",
      "https://www.eventbrite.com/d/va--virginia-beach/paid--performances/?page=11\n",
      "[INFO] Conversation created successfully\n",
      "https://www.eventbrite.com/d/va--virginia-beach/paid--performances/?page=12\n",
      "[INFO] Conversation created successfully\n"
     ]
    }
   ],
   "source": [
    "urls = df[\"Links\"].to_list()\n",
    "\n",
    "for url in tqdm(urls, desc=f\"Uploading {len(urls)} URLs to {SCRAPER_NAME}\"):\n",
    "        print(url)\n",
    "        secure_url = url.replace(\"http://\", \"https://\")\n",
    "        data = {\n",
    "            \"id\": hashlib.sha256(secure_url.encode()).hexdigest(),\n",
    "            \"url\": secure_url,\n",
    "            \"processed\": False,\n",
    "            \"sheet_name\": SHEET_NAME\n",
    "        }\n",
    "        azure_cosmos.create_conversation(conversation_data=data)"
   ]
  },
  {
   "cell_type": "code",
   "execution_count": null,
   "metadata": {},
   "outputs": [],
   "source": []
  }
 ],
 "metadata": {
  "kernelspec": {
   "display_name": "venv",
   "language": "python",
   "name": "python3"
  },
  "language_info": {
   "codemirror_mode": {
    "name": "ipython",
    "version": 3
   },
   "file_extension": ".py",
   "mimetype": "text/x-python",
   "name": "python",
   "nbconvert_exporter": "python",
   "pygments_lexer": "ipython3",
   "version": "3.9.20"
  }
 },
 "nbformat": 4,
 "nbformat_minor": 2
}
