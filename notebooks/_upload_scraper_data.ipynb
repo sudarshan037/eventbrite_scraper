{
 "cells": [
  {
   "cell_type": "code",
   "execution_count": 1,
   "metadata": {},
   "outputs": [],
   "source": [
    "import os\n",
    "\n",
    "if \"notebooks\" in os.getcwd():\n",
    "    os.chdir(\"..\")"
   ]
  },
  {
   "cell_type": "code",
   "execution_count": 2,
   "metadata": {},
   "outputs": [],
   "source": [
    "import time\n",
    "from tqdm.notebook import tqdm"
   ]
  },
  {
   "cell_type": "code",
   "execution_count": null,
   "metadata": {},
   "outputs": [],
   "source": [
    "from azure_cosmos_db import *\n",
    "\n",
    "azure_cosmos = AzureCosmos()\n",
    "\n",
    "azure_cosmos.list_containers()"
   ]
  },
  {
   "cell_type": "markdown",
   "metadata": {},
   "source": [
    "# Events, Dice & Shotgun Scraper"
   ]
  },
  {
   "cell_type": "code",
   "execution_count": 4,
   "metadata": {},
   "outputs": [],
   "source": [
    "SCRAPER_NAME = \"shotgun_links\"\n",
    "INPUT_FILE_PATH = \"data/inputs/Shotgun Analysis - Non Duplicates.csv\"\n",
    "SHEET_NAME = \"\""
   ]
  },
  {
   "cell_type": "code",
   "execution_count": null,
   "metadata": {},
   "outputs": [],
   "source": [
    "azure_cosmos.DATABASE_ID = \"Scraper\"\n",
    "azure_cosmos.CONTAINER_NAME = SCRAPER_NAME\n",
    "\n",
    "azure_cosmos.container = azure_cosmos.initialize_cosmosdb()"
   ]
  },
  {
   "cell_type": "code",
   "execution_count": null,
   "metadata": {},
   "outputs": [],
   "source": [
    "SHEET_NAME, extension = os.path.splitext(os.path.basename(INPUT_FILE_PATH))\n",
    "\n",
    "if extension==\".csv\":\n",
    "    df = pd.read_csv(INPUT_FILE_PATH)\n",
    "elif extension==\".xlsx\":\n",
    "    df = pd.read_excel(INPUT_FILE_PATH, sheet_name=\"Sheet4\")\n",
    "\n",
    "print(f\"Total: {df.shape}\")\n",
    "df.drop_duplicates(inplace=True)\n",
    "print(f\"Unique: {df.shape}\")\n",
    "\n",
    "print(SHEET_NAME)\n",
    "# df = df.sample(5)\n",
    "df.head()"
   ]
  },
  {
   "cell_type": "code",
   "execution_count": null,
   "metadata": {},
   "outputs": [],
   "source": [
    "max_retries = 3\n",
    "success = 0\n",
    "\n",
    "urls = df[\"Non Duplicates Organisers\"].to_list()\n",
    "\n",
    "for url in tqdm(urls, desc=f\"Uploading {len(urls)} URLs to {SCRAPER_NAME}\"):\n",
    "    secure_url = url.replace(\"http://\", \"https://\")\n",
    "    hash_key = SHEET_NAME + secure_url\n",
    "    data = {\n",
    "        \"id\": hashlib.sha256(hash_key.encode()).hexdigest(),\n",
    "        \"url\": secure_url,\n",
    "        \"processed\": False,\n",
    "        \"sheet_name\": SHEET_NAME\n",
    "    }\n",
    "\n",
    "    retries = 0\n",
    "    while retries < max_retries:\n",
    "        try:\n",
    "            azure_cosmos.create_conversation(conversation_data=data)\n",
    "            success += 1\n",
    "            break\n",
    "        except CosmosResourceExistsError as e:\n",
    "            success += 1\n",
    "            print(f\"[INFO] Record already exists in {azure_cosmos.CONTAINER_NAME}, skipping insertion.\")\n",
    "            break\n",
    "        except CosmosHttpResponseError as e:\n",
    "            if e.status_code == 429:\n",
    "                retry_after = int(e.headers.get(\"x-ms-retry-after-ms\", 1000))/1000\n",
    "                print(f\"[WARNNING] Rate limit exeeded. Retrying in {retry_after}\")\n",
    "                time.sleep(retry_after)\n",
    "                retries += 1\n",
    "            else:\n",
    "                print(e)\n",
    "                break\n",
    "                     \n",
    "print(f\"Out of {df.shape[0]} URLs, {success} were uploaded and {df.shape[0]-success} failed to upload\")"
   ]
  },
  {
   "cell_type": "code",
   "execution_count": null,
   "metadata": {},
   "outputs": [],
   "source": []
  }
 ],
 "metadata": {
  "kernelspec": {
   "display_name": "venv",
   "language": "python",
   "name": "python3"
  },
  "language_info": {
   "codemirror_mode": {
    "name": "ipython",
    "version": 3
   },
   "file_extension": ".py",
   "mimetype": "text/x-python",
   "name": "python",
   "nbconvert_exporter": "python",
   "pygments_lexer": "ipython3",
   "version": "3.9.20"
  }
 },
 "nbformat": 4,
 "nbformat_minor": 2
}
